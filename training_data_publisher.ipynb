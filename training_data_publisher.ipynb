{
 "cells": [
  {
   "cell_type": "code",
   "execution_count": null,
   "metadata": {},
   "outputs": [],
   "source": [
    "import os\n",
    "import time\n",
    "import boto3\n",
    "import random\n",
    "import logging"
   ]
  },
  {
   "cell_type": "code",
   "execution_count": null,
   "metadata": {},
   "outputs": [],
   "source": [
    "logging.getLogger().setLevel(logging.INFO)\n",
    "logger = logging.getLogger('mxnet_data')\n",
    "fh = logging.FileHandler('data-publishing.log')\n",
    "fh.setLevel(logging.INFO)\n",
    "formatter = logging.Formatter('%(asctime)s - %(name)s - %(levelname)s - %(message)s')\n",
    "fh.setFormatter(formatter)\n",
    "logger.addHandler(fh)"
   ]
  },
  {
   "cell_type": "code",
   "execution_count": null,
   "metadata": {},
   "outputs": [],
   "source": [
    "def find_last(text, token):\n",
    "    position = []\n",
    "    for n in range(len(text)):\n",
    "        if text.find(token, n, n+1) != -1:\n",
    "            position.append(n)\n",
    "    return position[len(position)-1]"
   ]
  },
  {
   "cell_type": "code",
   "execution_count": null,
   "metadata": {},
   "outputs": [],
   "source": [
    "def publish_to_queue(sqs, queuename, filename):\n",
    "    data_file = open(filename, 'r')\n",
    "    data_list = data_file.readlines()\n",
    "    data_file.close()    \n",
    "    message = ''\n",
    "    messageDeduplicationId=filename[find_last(filename, '_')+1:find_last(filename, '.')]\n",
    "    messageGroupId=filename[find_last(filename, '/')+1:find_last(filename, '_')]\n",
    "    for record in data_list:\n",
    "        message = message + record\n",
    "    queue = sqs.get_queue_by_name(QueueName=queuename)\n",
    "    response = queue.send_message(\n",
    "        MessageBody=message,\n",
    "        MessageDeduplicationId=messageDeduplicationId,\n",
    "        MessageGroupId=messageGroupId\n",
    "    )\n",
    "    return response"
   ]
  },
  {
   "cell_type": "code",
   "execution_count": null,
   "metadata": {},
   "outputs": [],
   "source": [
    "sqs = boto3.resource('sqs', 'us-east-1')"
   ]
  },
  {
   "cell_type": "code",
   "execution_count": null,
   "metadata": {},
   "outputs": [],
   "source": [
    "queue = 'training-data.fifo'\n",
    "logger.info('Publishing Queue - ' + queue)"
   ]
  },
  {
   "cell_type": "code",
   "execution_count": null,
   "metadata": {},
   "outputs": [],
   "source": [
    "lines_per_file = 120\n",
    "smallfile = None\n",
    "progress = 0\n",
    "if not os.path.exists('./dataset/incremental'):\n",
    "    os.makedirs('./dataset/incremental') \n",
    "if os.path.exists('check.dat'):\n",
    "    check = open('check.dat','r')\n",
    "    progress = int(check.readlines()[0])\n",
    "    check.close()\n",
    "with open('./dataset/training-data.csv') as bigfile:\n",
    "    for lineno, line in enumerate(bigfile):\n",
    "        if int(lineno / lines_per_file) < progress:\n",
    "            continue\n",
    "        if lineno  % lines_per_file == 0:\n",
    "            if smallfile:\n",
    "                smallfile.close()\n",
    "                print(\"Created file : \" + smallfile.name)\n",
    "                response = publish_to_queue(sqs,queue,small_filename)\n",
    "                logger.info('Data Packet - ' + small_filename[find_last(small_filename, '/')+1:find_last(small_filename, '.')]+ ' published at ' + response['ResponseMetadata']['HTTPHeaders']['date'])               \n",
    "                check = open('check.dat','w') \n",
    "                check.write(str(int(small_filename[find_last(small_filename, '_')+1:find_last(small_filename, '.')])))\n",
    "                check.close()\n",
    "                time.sleep(30)                \n",
    "            small_filename = './dataset/incremental/train_{}.csv'.format(str(int(lineno / lines_per_file) + 1).zfill(3))\n",
    "            print(small_filename)\n",
    "            smallfile = open(small_filename, \"w\")\n",
    "        if line.find(\"pixel\") < 0:\n",
    "            smallfile.write(line)\n",
    "    if smallfile:\n",
    "        smallfile.close()\n",
    "if os.path.exists('check.dat'):\n",
    "    os.remove('check.dat')"
   ]
  },
  {
   "cell_type": "code",
   "execution_count": null,
   "metadata": {},
   "outputs": [],
   "source": []
  }
 ],
 "metadata": {
  "kernelspec": {
   "display_name": "Python [default]",
   "language": "python",
   "name": "python3"
  },
  "language_info": {
   "codemirror_mode": {
    "name": "ipython",
    "version": 3
   },
   "file_extension": ".py",
   "mimetype": "text/x-python",
   "name": "python",
   "nbconvert_exporter": "python",
   "pygments_lexer": "ipython3",
   "version": "3.6.3"
  }
 },
 "nbformat": 4,
 "nbformat_minor": 2
}
