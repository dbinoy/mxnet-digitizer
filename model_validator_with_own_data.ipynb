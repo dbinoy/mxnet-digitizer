{
 "cells": [
  {
   "cell_type": "code",
   "execution_count": null,
   "metadata": {},
   "outputs": [],
   "source": [
    "import os\n",
    "import os.path\n",
    "import numpy as np\n",
    "import mxnet as mx"
   ]
  },
  {
   "cell_type": "code",
   "execution_count": null,
   "metadata": {},
   "outputs": [],
   "source": [
    "epoch = 30\n",
    "batch_size = 120\n",
    "model_path = 'model'\n",
    "model_name = 'mxnet_cnn_digits'\n",
    "data_folder = \"./dataset\""
   ]
  },
  {
   "cell_type": "code",
   "execution_count": null,
   "metadata": {},
   "outputs": [],
   "source": [
    "def show_data(data, label, label_type, num=15):\n",
    "    %matplotlib inline\n",
    "    import matplotlib.pyplot as plt\n",
    "    for i in range(num):\n",
    "        plt.subplot(1,num,i+1)\n",
    "        plt.imshow(data[i][0], cmap='Greys_r')\n",
    "        plt.axis('off')\n",
    "    plt.show()\n",
    "    print(label_type + ' label: %s' % (label[0:num],))"
   ]
  },
  {
   "cell_type": "code",
   "execution_count": null,
   "metadata": {},
   "outputs": [],
   "source": [
    "def load_data(path, filename):\n",
    "    data_file = open(path + '/'+filename, 'r')\n",
    "    data_list = data_file.readlines()\n",
    "    data_file.close()\n",
    "    print(str(len(data_list)-1) + ' samples loaded from ' + path + '/'+filename)\n",
    "    labels = np.empty([len(data_list),])\n",
    "    pixels = np.empty([len(data_list),1,28,28])\n",
    "    index=0\n",
    "    for record in data_list:\n",
    "        all_values = record.split(',')\n",
    "        if len(all_values) == 785:\n",
    "            labels[index] = all_values[0]\n",
    "            pixel = np.asfarray(all_values[1:]).reshape(28,28).astype(np.float32)/255\n",
    "            pixels[index] = pixel\n",
    "            index = index + 1  \n",
    "    data = {'label': labels, 'data': pixels}    \n",
    "    return data"
   ]
  },
  {
   "cell_type": "code",
   "execution_count": null,
   "metadata": {},
   "outputs": [],
   "source": [
    "def load_model(model_path, model_name, batch_size, epoch): \n",
    "    model = mx.mod.Module.load(model_path + '/' + str(epoch) + '/batch-'+str(batch_size) + '/' + model_name, epoch, load_optimizer_states =True, context=mx.gpu())\n",
    "    print('Training model '+model_name+' loaded from ' + model_path + '/' + str(epoch) + '/batch-'+str(batch_size))\n",
    "    return model"
   ]
  },
  {
   "cell_type": "code",
   "execution_count": null,
   "metadata": {},
   "outputs": [],
   "source": [
    "def measure_test_accuracy(model, test_data, batch_size, num=15):    \n",
    "    test_iter = mx.io.NDArrayIter(test_data['data'], test_data['label'], batch_size)\n",
    "    model.bind(data_shapes=test_iter.provide_data, label_shapes=test_iter.provide_label)\n",
    "    predictions = model.predict(test_iter)\n",
    "    predicted_labels = np.argmax(predictions, axis=1)\n",
    "    show_data(test_data['data'],predicted_labels,\"Predicted\",num)\n",
    "    given_labels = test_data['label']\n",
    "    match = 0\n",
    "    mismatch = 0\n",
    "    for i,given_label in enumerate(given_labels):\n",
    "        if given_label == predicted_labels[i]:\n",
    "            match = match + 1\n",
    "        else:\n",
    "            mismatch = mismatch + 1\n",
    "    return format(format(match*100/(match+mismatch),'.4f'))"
   ]
  },
  {
   "cell_type": "code",
   "execution_count": null,
   "metadata": {},
   "outputs": [],
   "source": [
    "test_data = load_data('dataset', 'own_data_1.5.csv')\n",
    "#test_data = load_data('dataset', 'validation-data.csv')\n",
    "show_data(test_data['data'],test_data['label'],\"Expected\",15)\n",
    "model = load_model(model_path, model_name, batch_size, epoch)\n",
    "accuracy = measure_test_accuracy(model, test_data, batch_size)\n",
    "print(accuracy)"
   ]
  },
  {
   "cell_type": "code",
   "execution_count": null,
   "metadata": {},
   "outputs": [],
   "source": []
  }
 ],
 "metadata": {
  "kernelspec": {
   "display_name": "Python [conda env:mxnet_p36]",
   "language": "python",
   "name": "conda-env-mxnet_p36-py"
  },
  "language_info": {
   "codemirror_mode": {
    "name": "ipython",
    "version": 3
   },
   "file_extension": ".py",
   "mimetype": "text/x-python",
   "name": "python",
   "nbconvert_exporter": "python",
   "pygments_lexer": "ipython3",
   "version": "3.6.3"
  }
 },
 "nbformat": 4,
 "nbformat_minor": 2
}
