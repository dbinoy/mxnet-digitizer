{
 "cells": [
  {
   "cell_type": "code",
   "execution_count": 12,
   "metadata": {},
   "outputs": [],
   "source": [
    "import os\n",
    "import random"
   ]
  },
  {
   "cell_type": "code",
   "execution_count": 10,
   "metadata": {},
   "outputs": [],
   "source": [
    "data_list = []\n",
    "if os.path.exists('./dataset/train.csv'):\n",
    "    data_file = open('./dataset/train.csv', 'r')\n",
    "    data_list = data_file.readlines()\n",
    "    data_file.close()"
   ]
  },
  {
   "cell_type": "code",
   "execution_count": 13,
   "metadata": {},
   "outputs": [
    {
     "name": "stdout",
     "output_type": "stream",
     "text": [
      "74485\n",
      "8374\n"
     ]
    }
   ],
   "source": [
    "randlist = [(random.randint(1, 100)) for k in range(len(data_list)-1)]\n",
    "training_list = []\n",
    "validation_list = []\n",
    "for i,rand in enumerate(randlist):\n",
    "    if rand > 90:\n",
    "        validation_list.append(data_list[i+1])\n",
    "    else:\n",
    "        training_list.append(data_list[i+1])\n",
    "print(len(training_list))\n",
    "print(len(validation_list))"
   ]
  },
  {
   "cell_type": "code",
   "execution_count": 14,
   "metadata": {},
   "outputs": [],
   "source": [
    "validationfile = open('./dataset/validation-data.csv', \"w+\")    \n",
    "for data in validation_list:\n",
    "    validationfile.write(data)\n",
    "validationfile.close()"
   ]
  },
  {
   "cell_type": "code",
   "execution_count": 16,
   "metadata": {},
   "outputs": [],
   "source": [
    "trainingfile = open('./dataset/training-data.csv', \"w+\")    \n",
    "for data in training_list:\n",
    "    trainingfile.write(data)\n",
    "trainingfile.close()"
   ]
  },
  {
   "cell_type": "code",
   "execution_count": null,
   "metadata": {},
   "outputs": [],
   "source": []
  }
 ],
 "metadata": {
  "kernelspec": {
   "display_name": "Python [default]",
   "language": "python",
   "name": "python3"
  },
  "language_info": {
   "codemirror_mode": {
    "name": "ipython",
    "version": 3
   },
   "file_extension": ".py",
   "mimetype": "text/x-python",
   "name": "python",
   "nbconvert_exporter": "python",
   "pygments_lexer": "ipython3",
   "version": "3.6.3"
  }
 },
 "nbformat": 4,
 "nbformat_minor": 2
}
