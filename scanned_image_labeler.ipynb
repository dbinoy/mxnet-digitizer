{
 "cells": [
  {
   "cell_type": "code",
   "execution_count": 1,
   "metadata": {
    "collapsed": true
   },
   "outputs": [],
   "source": [
    "import os\n",
    "import cv2\n",
    "import time\n",
    "import boto3\n",
    "import shutil\n",
    "import numpy as np"
   ]
  },
  {
   "cell_type": "code",
   "execution_count": 2,
   "metadata": {
    "collapsed": true
   },
   "outputs": [],
   "source": [
    "padding_factor = 1.5\n",
    "source_folder = \"./input-images\"\n",
    "destination_folder = \"./labeled-images\"\n",
    "data_folder = \"./dataset\"\n",
    "training_file = \"{}/own_data_{}.csv\".format(data_folder, str(padding_factor))"
   ]
  },
  {
   "cell_type": "code",
   "execution_count": 3,
   "metadata": {
    "collapsed": true
   },
   "outputs": [],
   "source": [
    "if not os.path.exists(destination_folder):\n",
    "    os.makedirs(destination_folder)   "
   ]
  },
  {
   "cell_type": "code",
   "execution_count": 4,
   "metadata": {
    "collapsed": true
   },
   "outputs": [],
   "source": [
    "def extract_image(source_folder, input_file): \n",
    "\n",
    "    #Read scanned image file\n",
    "    image = cv2.imread(source_folder+'/'+input_file)\n",
    "    #Obtain rectangular regions containing digits\n",
    "    im_th, roi = extract_roi(image)\n",
    "    #Sort rectangular regions by lines of text\n",
    "    sorted_rects = sort_roi(roi)\n",
    "    input_sequences, labeled_image = serialize_pixels(sorted_rects, im_th, image)\n",
    "    \n",
    "    return {'data': input_sequences, 'handle': labeled_image} "
   ]
  },
  {
   "cell_type": "code",
   "execution_count": 5,
   "metadata": {
    "collapsed": true
   },
   "outputs": [],
   "source": [
    "def extract_roi(image):\n",
    "    \n",
    "    # Convert to grayscale and apply Gaussian filtering\n",
    "    im_gray = cv2.cvtColor(image, cv2.COLOR_BGR2GRAY)\n",
    "    im_gray = cv2.GaussianBlur(im_gray, (5, 5), 0)\n",
    "    \n",
    "    # Threshold the image\n",
    "    ret, im_th = cv2.threshold(im_gray, 127, 255, cv2.THRESH_BINARY_INV)\n",
    "    \n",
    "    # Find contours in the image\n",
    "    _, ctrs, hier = cv2.findContours(im_th.copy(), cv2.RETR_EXTERNAL, cv2.CHAIN_APPROX_SIMPLE)\n",
    "    \n",
    "    # Get rectangles contains each contour\n",
    "    rects = [cv2.boundingRect(ctr) for ctr in ctrs]\n",
    "    \n",
    "    #Return rectangles sorted by position on screen\n",
    "    return im_th, sorted(rects, key=lambda rect: rect[1]) "
   ]
  },
  {
   "cell_type": "code",
   "execution_count": 6,
   "metadata": {
    "collapsed": true
   },
   "outputs": [],
   "source": [
    "def sort_roi(rects):\n",
    "    rect_lines = list()\n",
    "    current_line=list()\n",
    "    for rect in rects:\n",
    "        if len(current_line) <= 0:\n",
    "            current_line.append(rect)\n",
    "        else:\n",
    "            if rect[1] > current_line[len(current_line)-1][1] + current_line[len(current_line)-1][3]:\n",
    "                rect_lines.append(current_line)\n",
    "                current_line=list()\n",
    "                current_line.append(rect)\n",
    "            else:\n",
    "                current_line.append(rect)\n",
    "    rect_lines.append(current_line) \n",
    "\n",
    "    sorted_rects = list()\n",
    "    for rect_line in rect_lines:\n",
    "        sorted_line = sorted(rect_line, key=lambda rect: rect[0])\n",
    "        for rect in sorted_line:\n",
    "            sorted_rects.append(rect)\n",
    "            \n",
    "    return sorted_rects"
   ]
  },
  {
   "cell_type": "code",
   "execution_count": 7,
   "metadata": {},
   "outputs": [],
   "source": [
    "def serialize_pixels(sorted_rects, im_th, image):\n",
    "    \n",
    "    index=0\n",
    "    input_sequences=list()\n",
    "    \n",
    "    for rect in sorted_rects:\n",
    "\n",
    "        rec_w = rect[2]\n",
    "        rec_h = rect[3]\n",
    "        prec_dim = rec_h\n",
    "        if rec_w > rec_h:\n",
    "            prec_dim = rec_w\n",
    "            \n",
    "        prec_dim = int(prec_dim * padding_factor)     \n",
    "        prec_x = int(rect[0] + (rect[2] - prec_dim) // 2) \n",
    "        prec_y = int(rect[1] + (rect[3] - prec_dim) // 2) \n",
    "                \n",
    "        roi = im_th[prec_y:prec_y+prec_dim, prec_x:prec_x+prec_dim]\n",
    "        '''\n",
    "        # Draw the rectangles\n",
    "        cv2.rectangle(image, (rect[0], rect[1]), (rect[0] + rect[2], rect[1] + rect[3]), (0, 255, 0), 1) \n",
    "\n",
    "        # Make the rectangular region around the digit\n",
    "        leng = int(rect[3] * padding_factor)\n",
    "        pt1 = int(rect[1] + rect[3] // 2 - leng // 2) \n",
    "        pt2 = int(rect[0] + rect[2] // 2 - leng // 2)                           \n",
    "        roi = im_th[pt1:pt1+leng, pt2:pt2+leng]\n",
    "        '''\n",
    "        if len(roi) > 0 and np.shape(roi)[0] > 50 and np.shape(roi)[1] > 50:                \n",
    "\n",
    "            roi = cv2.resize(roi, (28, 28), interpolation=cv2.INTER_AREA)\n",
    "            roi = cv2.dilate(roi, (3, 3))     \n",
    "\n",
    "            # Convert to a 1-D sequence of pixels, ready to feed to digit recognizer model\n",
    "            pixel_input_seq=roi.ravel() \n",
    "\n",
    "            #Display the image and wait for human trainer input\n",
    "            input_pixels = ''\n",
    "            for pixel in enumerate(pixel_input_seq):\n",
    "                if len(input_pixels) > 0:\n",
    "                    input_pixels = input_pixels +','\n",
    "                input_pixels = input_pixels + str(pixel[1])\n",
    "            cv2.imshow(\"Resulting Image with Rectangular ROIs\", roi)\n",
    "\n",
    "            #Capture numeric key press and add as label\n",
    "            keypressed = cv2.waitKey()\n",
    "            if keypressed >= 48 and keypressed <= 57:\n",
    "                cv2.rectangle(image, (prec_x, prec_y), (prec_x + prec_dim, prec_y + prec_dim), (0, 255, 0), 1) \n",
    "                cv2.putText(image, str(keypressed-48), (prec_x, prec_y),cv2.FONT_HERSHEY_DUPLEX, 1, (0, 0, 255), 1)\n",
    "                input_pixels = str(keypressed-48) + ',' + input_pixels\n",
    "            elif keypressed == 81 or keypressed == 113:\n",
    "                break\n",
    "            else:\n",
    "                input_pixels = 'x,' + input_pixels\n",
    "            input_sequences.append(input_pixels)\n",
    "            index = index + 1 \n",
    "    #cv2.waitKey(2000)  \n",
    "    cv2.destroyAllWindows()\n",
    "    return input_sequences, image"
   ]
  },
  {
   "cell_type": "code",
   "execution_count": 8,
   "metadata": {
    "collapsed": true
   },
   "outputs": [],
   "source": [
    "files=[]\n",
    "if os.path.exists(source_folder):\n",
    "    for (dirpath, dirnames, filenames) in os.walk(source_folder):\n",
    "        files.extend(filenames)\n",
    "        break"
   ]
  },
  {
   "cell_type": "code",
   "execution_count": 9,
   "metadata": {},
   "outputs": [],
   "source": [
    "for input_file in files:    \n",
    "    processed_output = extract_image(source_folder, input_file)\n",
    "    cv2.imwrite( destination_folder + \"/\" + \"_processed.\".join(input_file.rsplit(\".\", 1)), processed_output['handle'])\n",
    "    if not os.path.exists(training_file):\n",
    "        training_file_handle = open(training_file,  \"w+\")\n",
    "    else:\n",
    "        training_file_handle = open(training_file,  \"a+\")\n",
    "    for input_pixel in processed_output['data']:\n",
    "        if len(input_pixel) > 0 and input_pixel[0] != 'x':\n",
    "            training_file_handle.write(input_pixel + \"\\n\")\n",
    "    training_file_handle.close() \n",
    "    shutil.copy2(source_folder+\"/\"+input_file, destination_folder+\"/\"+input_file)\n",
    "    os.remove(source_folder+\"/\"+input_file)"
   ]
  },
  {
   "cell_type": "code",
   "execution_count": null,
   "metadata": {
    "collapsed": true
   },
   "outputs": [],
   "source": []
  }
 ],
 "metadata": {
  "kernelspec": {
   "display_name": "Python 2",
   "language": "python",
   "name": "python2"
  },
  "language_info": {
   "codemirror_mode": {
    "name": "ipython",
    "version": 2
   },
   "file_extension": ".py",
   "mimetype": "text/x-python",
   "name": "python",
   "nbconvert_exporter": "python",
   "pygments_lexer": "ipython2",
   "version": "2.7.13"
  }
 },
 "nbformat": 4,
 "nbformat_minor": 2
}
